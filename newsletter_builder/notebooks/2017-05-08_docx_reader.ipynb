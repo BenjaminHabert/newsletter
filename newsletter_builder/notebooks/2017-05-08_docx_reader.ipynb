{
 "cells": [
  {
   "cell_type": "markdown",
   "metadata": {},
   "source": [
    "# Objectif\n",
    "\n",
    "Je cherche une manière pratique de lire les objets .docx et des les séparer en plusieurs sections\n"
   ]
  },
  {
   "cell_type": "code",
   "execution_count": 185,
   "metadata": {
    "collapsed": true
   },
   "outputs": [],
   "source": [
    "filename = \"/Users/benjaminhabert/Documents/Quantmetry_Missions/NewsLetter_Technique/2017-03-27_Technical_Newsletter.docx\""
   ]
  },
  {
   "cell_type": "code",
   "execution_count": 186,
   "metadata": {
    "collapsed": true
   },
   "outputs": [],
   "source": [
    "import mammoth"
   ]
  },
  {
   "cell_type": "code",
   "execution_count": 206,
   "metadata": {
    "collapsed": false
   },
   "outputs": [
    {
     "name": "stdout",
     "output_type": "stream",
     "text": [
      "2017-03-27\n"
     ]
    }
   ],
   "source": [
    "import re\n",
    "def find_date(s):\n",
    "    try:\n",
    "        pattern = '(\\d{4}).(\\d{2}).(\\d{2})'\n",
    "        return '-'.join(re.search(pattern, s).groups())\n",
    "    except AttributeError:\n",
    "        return None\n",
    "\n",
    "def find_title(raw, balise, text):\n",
    "    if balise.startswith('h') :\n",
    "        return text\n",
    "    if balise == \"p\":\n",
    "        try:\n",
    "            pattern = r\"^<strong>(.+?)</strong>$\"\n",
    "            result = re.match(pattern, text)\n",
    "            return result.group(1)\n",
    "        except Exception:\n",
    "            pass\n",
    "    return None\n",
    "\n",
    "\n",
    "def strip_images(html):\n",
    "    \"\"\" clean_html, image_list = strip_images(newsitem['rawhtml']) \"\"\"\n",
    "    # removing images\n",
    "    pattern = r'<img src=\".+?\" />'\n",
    "    without_images, _ = re.subn(pattern, '', html)\n",
    "    # removing empty paragraphs\n",
    "    pattern = r'<p></p>'\n",
    "    without_images, _ = re.subn(pattern, '', without_images)\n",
    "    # getting list of image names\n",
    "    pattern = r'<img src=\"(.+?)\" />'\n",
    "    image_list = re.findall(pattern, html)\n",
    "    return without_images, image_list\n",
    "    \n",
    "def conclude_newsitem(newsitem):\n",
    "    clean_html, image_list = strip_images(newsitem['rawhtml'])\n",
    "    newsitem['rawhtml'] = clean_html\n",
    "    newsitem['images'] = image_list\n",
    "    return newsitem\n",
    "    \n",
    "def html_to_newsitems(html):\n",
    "    pattern = r\"(<(?P<balise>.+?)>(.+?)</(?P=balise)>)\"\n",
    "    result = re.findall(pattern, html)\n",
    "    date = find_date(result[0][2])\n",
    "    print(date)\n",
    "    news = []\n",
    "    newsitem = None\n",
    "    for raw, balise, text in result[1:]:\n",
    "        title = find_title(raw, balise, text)\n",
    "        if title:\n",
    "            if newsitem:\n",
    "                \n",
    "                news.append(conclude_newsitem(newsitem))\n",
    "            newsitem = {\n",
    "                'title': title,\n",
    "                'date': date,\n",
    "                'rawhtml': \"\"\n",
    "            }\n",
    "        elif newsitem:\n",
    "            newsitem['rawhtml'] += raw\n",
    "    if newsitem:\n",
    "        news.append(conclude_newsitem(newsitem))\n",
    "    return news\n",
    "    \n",
    "    \n",
    "def convert_image(image):\n",
    "    # with image.open() as image_bytes:\n",
    "    #     encoded_src = base64.b64encode(image_bytes.read()).decode(\"ascii\")\n",
    "    # STEP 1: save image to disc\n",
    "    \n",
    "    # STEP 2: return image info (location in app)\n",
    "    return {\n",
    "        # \"src\": \"data:{0};base64,{1}\".format(image.content_type, encoded_src)\n",
    "        \"src\": 'location/in/app'\n",
    "    }\n",
    "\n",
    "def get_structured_document(filename):\n",
    "    with open(filename, \"rb\") as docx_file:\n",
    "        result = mammoth.convert_to_html(docx_file, convert_image=mammoth.images.img_element(convert_image))\n",
    "        html = result.value # The generated HTML\n",
    "        messages = result.messages # Any messages, such as warnings during conversion\n",
    "        return html_to_newsitems(html)\n",
    "    \n",
    "structured = get_structured_document(filename)"
   ]
  },
  {
   "cell_type": "code",
   "execution_count": 207,
   "metadata": {
    "collapsed": false
   },
   "outputs": [
    {
     "name": "stdout",
     "output_type": "stream",
     "text": [
      "[\n",
      "   {\n",
      "      \"date\": \"2017-03-27\",\n",
      "      \"title\": \"Servir un mod\\u00e8le de machine learning avec une API Web\",\n",
      "      \"rawhtml\": \"<p>La mise en production d\\u2019un mod\\u00e8le entra\\u00een\\u00e9 reste une probl\\u00e9matique r\\u00e9currente chez nos clients. Une solution possible est de cr\\u00e9er un service web\\u00a0: un serveur peut \\u00eatre requ\\u00eat\\u00e9 via une API REST. Une requ\\u00eate contenant les features est envoy\\u00e9e au server\\u00a0; celui-ci retourne la pr\\u00e9diction. C\\u2019est ce que propose le framework <a href=\\\"https://github.com/manigoswami/lightningbolt\\\">Lightning-Bolt</a>  qui s\\u2019appuie sur Bottle pour la partie serveur et scikit-learn pour la pr\\u00e9diction. </p>\",\n",
      "      \"images\": []\n",
      "   },\n",
      "   {\n",
      "      \"date\": \"2017-03-27\",\n",
      "      \"title\": \"Apprentissage s\\u00e9quentiel\\u00a0: comment ne pas oublier\",\n",
      "      \"rawhtml\": \"<p>L\\u2019oubli est un probl\\u00e8me qui se pose lors de l\\u2019apprentissage s\\u00e9quentiel de plusieurs t\\u00e2ches. Par exemple imaginons qu\\u2019un algorithme cherche \\u00e0 reconna\\u00eetre les chiffres \\u00e0 partir d\\u2019images (MNIST). Si les donn\\u00e9es sont fournies \\u00e0 l\\u2019algorithme dans l\\u2019ordre des chiffres, il apprend les t\\u00e2ches s\\u00e9quentiellement\\u00a0: d\\u2019abord comment reconna\\u00eetre le 0, puis le 1, le 2, etc. Puisque les param\\u00e8tres de l\\u2019algorithme \\u00e9voluent en continue (descente de gradient par exemple), il est possible qu\\u2019une fois arriv\\u00e9 au chiffre 9 l\\u2019algorithme ne sache plus reconna\\u00eetre le 0\\u00a0: il a \\u00ab\\u00a0oubli\\u00e9\\u00a0\\u00bb. Deux solutions sont possibles\\u00a0:</p><ul><li>M\\u00e9langer les donn\\u00e9es d\\u2019entra\\u00eenement : c\\u2019est la solution triviale que nous utilisons syst\\u00e9matiquement. Cependant cette solution n\\u2019est pas toujours r\\u00e9alisable\\u00a0; elle n\\u00e9cessite en particulier que toutes les donn\\u00e9es existent au d\\u00e9but de l\\u2019entrainement. C\\u2019est impossible dans une situation d\\u2019online learning ou compliqu\\u00e9 dans le cas o\\u00f9 les donn\\u00e9es ont \\u00e9t\\u00e9 s\\u00e9par\\u00e9es en chunks homog\\u00e8nes. </li><li>Utiliser une m\\u00e9thode d\\u2019apprentissage qui emp\\u00eache l\\u2019algorithme d\\u2019oublier. C\\u2019est cette m\\u00e9thode qui est expliqu\\u00e9e dans <a href=\\\"http://www.pnas.org/content/early/2017/03/13/1611835114.full.pdf\\\">l\\u2019article de recherche suivant</a>. Ce blog fait l\\u2019effort de <a href=\\\"http://rylanschaeffer.github.io/content/research/overcoming_catastrophic_forgetting/main.html\\\">vulgariser</a> le contenu de l\\u2019article. L\\u2019id\\u00e9e principale est de r\\u00e9duire le pas d\\u2019apprentissage sur les param\\u00e8tres du mod\\u00e8le qui ont \\u00e9t\\u00e9 jug\\u00e9s comme cruciaux pour l\\u2019apprentissage d\\u2019une t\\u00e2che pr\\u00e9c\\u00e9dente. </li></ul>\",\n",
      "      \"images\": [\n",
      "         \"location/in/app\"\n",
      "      ]\n",
      "   },\n",
      "   {\n",
      "      \"date\": \"2017-03-27\",\n",
      "      \"title\": \"Reconnaissance de visages\",\n",
      "      \"rawhtml\": \"<p>Vous r\\u00eavez d\\u2019\\u00eatre \\u00e0 la t\\u00eate du prochain BigBrother\\u00a0? Ou bien voulez vendre une application qui recommande le chapeau le plus adapt\\u00e9 au visage du client\\u00a0? Dans tous les cas vous aurez besoin d\\u2019une m\\u00e9thode qui extrait / reconna\\u00eet les visages pr\\u00e9sents dans une photo. Le package python <a href=\\\"https://github.com/ageitgey/face_recognition\\\">face_recognition</a> permet de faire ce type d\\u2019op\\u00e9rations avec une API simple. Le package vient avec un algorithme <a href=\\\"http://vis-www.cs.umass.edu/lfw/\\\">pr\\u00e9-entra\\u00een\\u00e9 sur un jeu de plus de 5000</a> personnes. </p>\",\n",
      "      \"images\": [\n",
      "         \"location/in/app\",\n",
      "         \"location/in/app\"\n",
      "      ]\n",
      "   },\n",
      "   {\n",
      "      \"date\": \"2017-03-27\",\n",
      "      \"title\": \"Afficher des arbres interactifs en R\",\n",
      "      \"rawhtml\": \"<p><a href=\\\"https://github.com/AdeelK93/collapsibleTree\\\">Ce package R</a> permet d\\u2019afficher des arbres interactifs (<a href=\\\"https://adeelk93.shinyapps.io/collapsibletree/\\\">d\\u00e9mo</a>)\\u00a0: on peut cliquer sur les n\\u0153uds de l\\u2019arbre pour les fermer / ouvrir. Ce package s\\u2019appuie sur le <a href=\\\"https://bl.ocks.org/mbostock/4339083\\\">collapsibleTree</a> de D3.js. </p>\",\n",
      "      \"images\": [\n",
      "         \"location/in/app\"\n",
      "      ]\n",
      "   }\n",
      "]\n"
     ]
    }
   ],
   "source": [
    "print(json.dumps(structured, indent=3))"
   ]
  },
  {
   "cell_type": "markdown",
   "metadata": {},
   "source": [
    "# Keeping only the words"
   ]
  },
  {
   "cell_type": "code",
   "execution_count": 209,
   "metadata": {
    "collapsed": false
   },
   "outputs": [
    {
     "data": {
      "text/plain": [
       "'<p>La mise en production d’un modèle entraîné reste une problématique récurrente chez nos clients. Une solution possible est de créer un service web\\xa0: un serveur peut être requêté via une API REST. Une requête contenant les features est envoyée au server\\xa0; celui-ci retourne la prédiction. C’est ce que propose le framework <a href=\"https://github.com/manigoswami/lightningbolt\">Lightning-Bolt</a>  qui s’appuie sur Bottle pour la partie serveur et scikit-learn pour la prédiction. </p>'"
      ]
     },
     "execution_count": 209,
     "metadata": {},
     "output_type": "execute_result"
    }
   ],
   "source": [
    "t = structured[0]['rawhtml']\n",
    "t"
   ]
  },
  {
   "cell_type": "code",
   "execution_count": 215,
   "metadata": {
    "collapsed": false
   },
   "outputs": [
    {
     "data": {
      "text/plain": [
       "[('la', 4),\n",
       " ('une', 4),\n",
       " ('un', 3),\n",
       " ('est', 3),\n",
       " ('p', 2),\n",
       " ('prédiction', 2),\n",
       " ('a', 2),\n",
       " ('pour', 2),\n",
       " ('serveur', 2),\n",
       " ('com', 1),\n",
       " ('les', 1),\n",
       " ('mise', 1),\n",
       " ('problématique', 1),\n",
       " ('appuie', 1),\n",
       " ('production', 1),\n",
       " ('solution', 1),\n",
       " ('que', 1),\n",
       " ('server', 1),\n",
       " ('qui', 1),\n",
       " ('requêté', 1),\n",
       " ('créer', 1),\n",
       " ('clients', 1),\n",
       " ('possible', 1),\n",
       " ('en', 1),\n",
       " ('lightningbolt', 1),\n",
       " ('manigoswami', 1),\n",
       " ('envoyée', 1),\n",
       " ('github', 1),\n",
       " ('api', 1),\n",
       " ('partie', 1),\n",
       " ('rest', 1),\n",
       " ('d', 1),\n",
       " ('requête', 1),\n",
       " ('href', 1),\n",
       " ('nos', 1),\n",
       " ('chez', 1),\n",
       " ('service', 1),\n",
       " ('entraîné', 1),\n",
       " ('et', 1),\n",
       " ('sur', 1),\n",
       " ('retourne', 1),\n",
       " ('via', 1),\n",
       " ('celui', 1),\n",
       " ('contenant', 1),\n",
       " ('peut', 1),\n",
       " ('de', 1),\n",
       " ('récurrente', 1),\n",
       " ('https', 1),\n",
       " ('framework', 1),\n",
       " ('être', 1),\n",
       " ('lightning', 1),\n",
       " ('le', 1),\n",
       " ('propose', 1),\n",
       " ('modèle', 1),\n",
       " ('s', 1),\n",
       " ('ce', 1),\n",
       " ('features', 1),\n",
       " ('learn', 1),\n",
       " ('reste', 1),\n",
       " ('au', 1),\n",
       " ('ci', 1),\n",
       " ('scikit', 1),\n",
       " ('web', 1),\n",
       " ('c', 1),\n",
       " ('bottle', 1),\n",
       " ('bolt', 1)]"
      ]
     },
     "execution_count": 215,
     "metadata": {},
     "output_type": "execute_result"
    }
   ],
   "source": [
    "from collections import Counter\n",
    "pattern = r\"(\\w+)\"\n",
    "mots = re.findall(pattern, t.lower())\n",
    "c = Counter(mots)\n",
    "c.most_common()"
   ]
  },
  {
   "cell_type": "code",
   "execution_count": 216,
   "metadata": {
    "collapsed": false
   },
   "outputs": [
    {
     "data": {
      "text/plain": [
       "0"
      ]
     },
     "execution_count": 216,
     "metadata": {},
     "output_type": "execute_result"
    }
   ],
   "source": [
    "c['odjoiddj']"
   ]
  },
  {
   "cell_type": "code",
   "execution_count": 217,
   "metadata": {
    "collapsed": true
   },
   "outputs": [],
   "source": [
    "t = Counter()"
   ]
  },
  {
   "cell_type": "code",
   "execution_count": 218,
   "metadata": {
    "collapsed": true
   },
   "outputs": [],
   "source": [
    "t[2] += 1"
   ]
  },
  {
   "cell_type": "code",
   "execution_count": 219,
   "metadata": {
    "collapsed": false
   },
   "outputs": [
    {
     "data": {
      "text/plain": [
       "Counter({2: 1})"
      ]
     },
     "execution_count": 219,
     "metadata": {},
     "output_type": "execute_result"
    }
   ],
   "source": [
    "t"
   ]
  },
  {
   "cell_type": "code",
   "execution_count": 225,
   "metadata": {
    "collapsed": false
   },
   "outputs": [],
   "source": [
    "from math import log, exp"
   ]
  },
  {
   "cell_type": "code",
   "execution_count": 226,
   "metadata": {
    "collapsed": false
   },
   "outputs": [
    {
     "data": {
      "text/plain": [
       "1.0"
      ]
     },
     "execution_count": 226,
     "metadata": {},
     "output_type": "execute_result"
    }
   ],
   "source": [
    "log(exp(1))"
   ]
  },
  {
   "cell_type": "code",
   "execution_count": null,
   "metadata": {
    "collapsed": true
   },
   "outputs": [],
   "source": []
  }
 ],
 "metadata": {
  "kernelspec": {
   "display_name": "Python 3",
   "language": "python",
   "name": "python3"
  },
  "language_info": {
   "codemirror_mode": {
    "name": "ipython",
    "version": 3
   },
   "file_extension": ".py",
   "mimetype": "text/x-python",
   "name": "python",
   "nbconvert_exporter": "python",
   "pygments_lexer": "ipython3",
   "version": "3.5.1"
  }
 },
 "nbformat": 4,
 "nbformat_minor": 0
}
