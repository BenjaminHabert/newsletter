{
 "cells": [
  {
   "cell_type": "markdown",
   "metadata": {},
   "source": [
    "# Objectif\n",
    "\n",
    "Je cherche une manière pratique de lire les objets .docx et des les séparer en plusieurs sections\n"
   ]
  },
  {
   "cell_type": "code",
   "execution_count": 185,
   "metadata": {
    "collapsed": true
   },
   "outputs": [],
   "source": [
    "filename = \"/Users/benjaminhabert/Documents/Quantmetry_Missions/NewsLetter_Technique/2017-03-27_Technical_Newsletter.docx\""
   ]
  },
  {
   "cell_type": "code",
   "execution_count": 186,
   "metadata": {
    "collapsed": true
   },
   "outputs": [],
   "source": [
    "import mammoth"
   ]
  },
  {
   "cell_type": "code",
   "execution_count": 206,
   "metadata": {
    "collapsed": false
   },
   "outputs": [
    {
     "name": "stdout",
     "output_type": "stream",
     "text": [
      "2017-03-27\n"
     ]
    }
   ],
   "source": [
    "import re\n",
    "def find_date(s):\n",
    "    try:\n",
    "        pattern = '(\\d{4}).(\\d{2}).(\\d{2})'\n",
    "        return '-'.join(re.search(pattern, s).groups())\n",
    "    except AttributeError:\n",
    "        return None\n",
    "\n",
    "def find_title(raw, balise, text):\n",
    "    if balise.startswith('h') :\n",
    "        return text\n",
    "    if balise == \"p\":\n",
    "        try:\n",
    "            pattern = r\"^<strong>(.+?)</strong>$\"\n",
    "            result = re.match(pattern, text)\n",
    "            return result.group(1)\n",
    "        except Exception:\n",
    "            pass\n",
    "    return None\n",
    "\n",
    "\n",
    "def strip_images(html):\n",
    "    \"\"\" clean_html, image_list = strip_images(newsitem['rawhtml']) \"\"\"\n",
    "    # removing images\n",
    "    pattern = r'<img src=\".+?\" />'\n",
    "    without_images, _ = re.subn(pattern, '', html)\n",
    "    # removing empty paragraphs\n",
    "    pattern = r'<p></p>'\n",
    "    without_images, _ = re.subn(pattern, '', without_images)\n",
    "    # getting list of image names\n",
    "    pattern = r'<img src=\"(.+?)\" />'\n",
    "    image_list = re.findall(pattern, html)\n",
    "    return without_images, image_list\n",
    "    \n",
    "def conclude_newsitem(newsitem):\n",
    "    clean_html, image_list = strip_images(newsitem['rawhtml'])\n",
    "    newsitem['rawhtml'] = clean_html\n",
    "    newsitem['images'] = image_list\n",
    "    return newsitem\n",
    "    \n",
    "def html_to_newsitems(html):\n",
    "    pattern = r\"(<(?P<balise>.+?)>(.+?)</(?P=balise)>)\"\n",
    "    result = re.findall(pattern, html)\n",
    "    date = find_date(result[0][2])\n",
    "    print(date)\n",
    "    news = []\n",
    "    newsitem = None\n",
    "    for raw, balise, text in result[1:]:\n",
    "        title = find_title(raw, balise, text)\n",
    "        if title:\n",
    "            if newsitem:\n",
    "                \n",
    "                news.append(conclude_newsitem(newsitem))\n",
    "            newsitem = {\n",
    "                'title': title,\n",
    "                'date': date,\n",
    "                'rawhtml': \"\"\n",
    "            }\n",
    "        elif newsitem:\n",
    "            newsitem['rawhtml'] += raw\n",
    "    if newsitem:\n",
    "        news.append(conclude_newsitem(newsitem))\n",
    "    return news\n",
    "    \n",
    "    \n",
    "def convert_image(image):\n",
    "    # with image.open() as image_bytes:\n",
    "    #     encoded_src = base64.b64encode(image_bytes.read()).decode(\"ascii\")\n",
    "    # STEP 1: save image to disc\n",
    "    \n",
    "    # STEP 2: return image info (location in app)\n",
    "    return {\n",
    "        # \"src\": \"data:{0};base64,{1}\".format(image.content_type, encoded_src)\n",
    "        \"src\": 'location/in/app'\n",
    "    }\n",
    "\n",
    "def get_structured_document(filename):\n",
    "    with open(filename, \"rb\") as docx_file:\n",
    "        result = mammoth.convert_to_html(docx_file, convert_image=mammoth.images.img_element(convert_image))\n",
    "        html = result.value # The generated HTML\n",
    "        messages = result.messages # Any messages, such as warnings during conversion\n",
    "        return html_to_newsitems(html)\n",
    "    \n",
    "structured = get_structured_document(filename)"
   ]
  },
  {
   "cell_type": "code",
   "execution_count": 207,
   "metadata": {
    "collapsed": false
   },
   "outputs": [
    {
     "name": "stdout",
     "output_type": "stream",
     "text": [
      "[\n",
      "   {\n",
      "      \"date\": \"2017-03-27\",\n",
      "      \"title\": \"Servir un mod\\u00e8le de machine learning avec une API Web\",\n",
      "      \"rawhtml\": \"<p>La mise en production d\\u2019un mod\\u00e8le entra\\u00een\\u00e9 reste une probl\\u00e9matique r\\u00e9currente chez nos clients. Une solution possible est de cr\\u00e9er un service web\\u00a0: un serveur peut \\u00eatre requ\\u00eat\\u00e9 via une API REST. Une requ\\u00eate contenant les features est envoy\\u00e9e au server\\u00a0; celui-ci retourne la pr\\u00e9diction. C\\u2019est ce que propose le framework <a href=\\\"https://github.com/manigoswami/lightningbolt\\\">Lightning-Bolt</a>  qui s\\u2019appuie sur Bottle pour la partie serveur et scikit-learn pour la pr\\u00e9diction. </p>\",\n",
      "      \"images\": []\n",
      "   },\n",
      "   {\n",
      "      \"date\": \"2017-03-27\",\n",
      "      \"title\": \"Apprentissage s\\u00e9quentiel\\u00a0: comment ne pas oublier\",\n",
      "      \"rawhtml\": \"<p>L\\u2019oubli est un probl\\u00e8me qui se pose lors de l\\u2019apprentissage s\\u00e9quentiel de plusieurs t\\u00e2ches. Par exemple imaginons qu\\u2019un algorithme cherche \\u00e0 reconna\\u00eetre les chiffres \\u00e0 partir d\\u2019images (MNIST). Si les donn\\u00e9es sont fournies \\u00e0 l\\u2019algorithme dans l\\u2019ordre des chiffres, il apprend les t\\u00e2ches s\\u00e9quentiellement\\u00a0: d\\u2019abord comment reconna\\u00eetre le 0, puis le 1, le 2, etc. Puisque les param\\u00e8tres de l\\u2019algorithme \\u00e9voluent en continue (descente de gradient par exemple), il est possible qu\\u2019une fois arriv\\u00e9 au chiffre 9 l\\u2019algorithme ne sache plus reconna\\u00eetre le 0\\u00a0: il a \\u00ab\\u00a0oubli\\u00e9\\u00a0\\u00bb. Deux solutions sont possibles\\u00a0:</p><ul><li>M\\u00e9langer les donn\\u00e9es d\\u2019entra\\u00eenement : c\\u2019est la solution triviale que nous utilisons syst\\u00e9matiquement. Cependant cette solution n\\u2019est pas toujours r\\u00e9alisable\\u00a0; elle n\\u00e9cessite en particulier que toutes les donn\\u00e9es existent au d\\u00e9but de l\\u2019entrainement. C\\u2019est impossible dans une situation d\\u2019online learning ou compliqu\\u00e9 dans le cas o\\u00f9 les donn\\u00e9es ont \\u00e9t\\u00e9 s\\u00e9par\\u00e9es en chunks homog\\u00e8nes. </li><li>Utiliser une m\\u00e9thode d\\u2019apprentissage qui emp\\u00eache l\\u2019algorithme d\\u2019oublier. C\\u2019est cette m\\u00e9thode qui est expliqu\\u00e9e dans <a href=\\\"http://www.pnas.org/content/early/2017/03/13/1611835114.full.pdf\\\">l\\u2019article de recherche suivant</a>. Ce blog fait l\\u2019effort de <a href=\\\"http://rylanschaeffer.github.io/content/research/overcoming_catastrophic_forgetting/main.html\\\">vulgariser</a> le contenu de l\\u2019article. L\\u2019id\\u00e9e principale est de r\\u00e9duire le pas d\\u2019apprentissage sur les param\\u00e8tres du mod\\u00e8le qui ont \\u00e9t\\u00e9 jug\\u00e9s comme cruciaux pour l\\u2019apprentissage d\\u2019une t\\u00e2che pr\\u00e9c\\u00e9dente. </li></ul>\",\n",
      "      \"images\": [\n",
      "         \"location/in/app\"\n",
      "      ]\n",
      "   },\n",
      "   {\n",
      "      \"date\": \"2017-03-27\",\n",
      "      \"title\": \"Reconnaissance de visages\",\n",
      "      \"rawhtml\": \"<p>Vous r\\u00eavez d\\u2019\\u00eatre \\u00e0 la t\\u00eate du prochain BigBrother\\u00a0? Ou bien voulez vendre une application qui recommande le chapeau le plus adapt\\u00e9 au visage du client\\u00a0? Dans tous les cas vous aurez besoin d\\u2019une m\\u00e9thode qui extrait / reconna\\u00eet les visages pr\\u00e9sents dans une photo. Le package python <a href=\\\"https://github.com/ageitgey/face_recognition\\\">face_recognition</a> permet de faire ce type d\\u2019op\\u00e9rations avec une API simple. Le package vient avec un algorithme <a href=\\\"http://vis-www.cs.umass.edu/lfw/\\\">pr\\u00e9-entra\\u00een\\u00e9 sur un jeu de plus de 5000</a> personnes. </p>\",\n",
      "      \"images\": [\n",
      "         \"location/in/app\",\n",
      "         \"location/in/app\"\n",
      "      ]\n",
      "   },\n",
      "   {\n",
      "      \"date\": \"2017-03-27\",\n",
      "      \"title\": \"Afficher des arbres interactifs en R\",\n",
      "      \"rawhtml\": \"<p><a href=\\\"https://github.com/AdeelK93/collapsibleTree\\\">Ce package R</a> permet d\\u2019afficher des arbres interactifs (<a href=\\\"https://adeelk93.shinyapps.io/collapsibletree/\\\">d\\u00e9mo</a>)\\u00a0: on peut cliquer sur les n\\u0153uds de l\\u2019arbre pour les fermer / ouvrir. Ce package s\\u2019appuie sur le <a href=\\\"https://bl.ocks.org/mbostock/4339083\\\">collapsibleTree</a> de D3.js. </p>\",\n",
      "      \"images\": [\n",
      "         \"location/in/app\"\n",
      "      ]\n",
      "   }\n",
      "]\n"
     ]
    }
   ],
   "source": [
    "print(json.dumps(structured, indent=3))"
   ]
  },
  {
   "cell_type": "code",
   "execution_count": 196,
   "metadata": {
    "collapsed": false
   },
   "outputs": [
    {
     "data": {
      "text/plain": [
       "{'date': '2017-03-27',\n",
       " 'rawhtml': '<p><a href=\"https://github.com/AdeelK93/collapsibleTree\">Ce package R</a> permet d’afficher des arbres interactifs (<a href=\"https://adeelk93.shinyapps.io/collapsibletree/\">démo</a>)\\xa0: on peut cliquer sur les nœuds de l’arbre pour les fermer / ouvrir. Ce package s’appuie sur le <a href=\"https://bl.ocks.org/mbostock/4339083\">collapsibleTree</a> de D3.js. </p><p><img src=\"location/in/app\" /></p>',\n",
       " 'title': 'Afficher des arbres interactifs en R'}"
      ]
     },
     "execution_count": 196,
     "metadata": {},
     "output_type": "execute_result"
    }
   ],
   "source": [
    "structured[-1]"
   ]
  },
  {
   "cell_type": "code",
   "execution_count": 197,
   "metadata": {
    "collapsed": true
   },
   "outputs": [],
   "source": [
    "t ='<p><a href=\"https://github.com/AdeelK93/collapsibleTree\">Ce package R</a> permet d’afficher des arbres interactifs (<a href=\"https://adeelk93.shinyapps.io/collapsibletree/\">démo</a>)\\xa0: on peut cliquer sur les nœuds de l’arbre pour les fermer / ouvrir. Ce package s’appuie sur le <a href=\"https://bl.ocks.org/mbostock/4339083\">collapsibleTree</a> de D3.js. </p><p><img src=\"location/in/app\" /></p>'"
   ]
  },
  {
   "cell_type": "code",
   "execution_count": 198,
   "metadata": {
    "collapsed": false
   },
   "outputs": [
    {
     "data": {
      "text/plain": [
       "'<'"
      ]
     },
     "execution_count": 198,
     "metadata": {},
     "output_type": "execute_result"
    }
   ],
   "source": []
  },
  {
   "cell_type": "code",
   "execution_count": 199,
   "metadata": {
    "collapsed": false
   },
   "outputs": [
    {
     "data": {
      "text/plain": [
       "('<p><a href=\"https://github.com/AdeelK93/collapsibleTree\">Ce package R</a> permet d’afficher des arbres interactifs (<a href=\"https://adeelk93.shinyapps.io/collapsibletree/\">démo</a>)\\xa0: on peut cliquer sur les nœuds de l’arbre pour les fermer / ouvrir. Ce package s’appuie sur le <a href=\"https://bl.ocks.org/mbostock/4339083\">collapsibleTree</a> de D3.js. </p>',\n",
       " ['location/in/app'])"
      ]
     },
     "execution_count": 199,
     "metadata": {},
     "output_type": "execute_result"
    }
   ],
   "source": [
    "strip_images(t)"
   ]
  },
  {
   "cell_type": "code",
   "execution_count": null,
   "metadata": {
    "collapsed": true
   },
   "outputs": [],
   "source": []
  }
 ],
 "metadata": {
  "kernelspec": {
   "display_name": "Python 3",
   "language": "python",
   "name": "python3"
  },
  "language_info": {
   "codemirror_mode": {
    "name": "ipython",
    "version": 3
   },
   "file_extension": ".py",
   "mimetype": "text/x-python",
   "name": "python",
   "nbconvert_exporter": "python",
   "pygments_lexer": "ipython3",
   "version": "3.5.1"
  }
 },
 "nbformat": 4,
 "nbformat_minor": 0
}
